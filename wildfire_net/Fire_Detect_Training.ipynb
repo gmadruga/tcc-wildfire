{
  "cells": [
    {
      "cell_type": "markdown",
      "metadata": {
        "id": "WUY-dC4SFhwc"
      },
      "source": [
        "## Fire Detection TinyML Model\n"
      ]
    },
    {
      "cell_type": "code",
      "execution_count": 1,
      "metadata": {
        "id": "xhgMktnbiX8Y"
      },
      "outputs": [
        {
          "name": "stderr",
          "output_type": "stream",
          "text": [
            "2022-10-05 00:32:58.021404: I tensorflow/core/platform/cpu_feature_guard.cc:193] This TensorFlow binary is optimized with oneAPI Deep Neural Network Library (oneDNN) to use the following CPU instructions in performance-critical operations:  AVX2 FMA\n",
            "To enable them in other operations, rebuild TensorFlow with the appropriate compiler flags.\n",
            "2022-10-05 00:33:07.713264: W tensorflow/stream_executor/platform/default/dso_loader.cc:64] Could not load dynamic library 'libcudart.so.11.0'; dlerror: libcudart.so.11.0: cannot open shared object file: No such file or directory\n",
            "2022-10-05 00:33:07.713324: I tensorflow/stream_executor/cuda/cudart_stub.cc:29] Ignore above cudart dlerror if you do not have a GPU set up on your machine.\n",
            "2022-10-05 00:33:09.209540: E tensorflow/stream_executor/cuda/cuda_blas.cc:2981] Unable to register cuBLAS factory: Attempting to register factory for plugin cuBLAS when one has already been registered\n",
            "2022-10-05 00:33:21.853913: W tensorflow/stream_executor/platform/default/dso_loader.cc:64] Could not load dynamic library 'libnvinfer.so.7'; dlerror: libnvinfer.so.7: cannot open shared object file: No such file or directory\n",
            "2022-10-05 00:33:21.854214: W tensorflow/stream_executor/platform/default/dso_loader.cc:64] Could not load dynamic library 'libnvinfer_plugin.so.7'; dlerror: libnvinfer_plugin.so.7: cannot open shared object file: No such file or directory\n",
            "2022-10-05 00:33:21.854247: W tensorflow/compiler/tf2tensorrt/utils/py_utils.cc:38] TF-TRT Warning: Cannot dlopen some TensorRT libraries. If you would like to use Nvidia GPU with TensorRT, please make sure the missing libraries mentioned above are installed properly.\n"
          ]
        }
      ],
      "source": [
        "import tensorflow as tf\n",
        "import scipy\n",
        "\n",
        "import tensorflow.keras as keras\n",
        "from keras.layers import Conv2D, MaxPooling2D, Dropout, Flatten, Dense, GlobalMaxPooling2D, BatchNormalization, Activation\n",
        "\n",
        "from tensorflow.keras.preprocessing.image import ImageDataGenerator\n"
      ]
    },
    {
      "cell_type": "code",
      "execution_count": 2,
      "metadata": {
        "id": "tQcHe--tCft_"
      },
      "outputs": [
        {
          "name": "stderr",
          "output_type": "stream",
          "text": [
            "2022-10-04 10:49:49.554175: I tensorflow/stream_executor/cuda/cuda_gpu_executor.cc:980] successful NUMA node read from SysFS had negative value (-1), but there must be at least one NUMA node, so returning NUMA node zero\n",
            "2022-10-04 10:49:49.554673: W tensorflow/stream_executor/platform/default/dso_loader.cc:64] Could not load dynamic library 'libcudart.so.11.0'; dlerror: libcudart.so.11.0: cannot open shared object file: No such file or directory\n",
            "2022-10-04 10:49:49.554760: W tensorflow/stream_executor/platform/default/dso_loader.cc:64] Could not load dynamic library 'libcublas.so.11'; dlerror: libcublas.so.11: cannot open shared object file: No such file or directory\n",
            "2022-10-04 10:49:49.554820: W tensorflow/stream_executor/platform/default/dso_loader.cc:64] Could not load dynamic library 'libcublasLt.so.11'; dlerror: libcublasLt.so.11: cannot open shared object file: No such file or directory\n",
            "2022-10-04 10:49:49.554874: W tensorflow/stream_executor/platform/default/dso_loader.cc:64] Could not load dynamic library 'libcufft.so.10'; dlerror: libcufft.so.10: cannot open shared object file: No such file or directory\n",
            "2022-10-04 10:49:49.554928: W tensorflow/stream_executor/platform/default/dso_loader.cc:64] Could not load dynamic library 'libcurand.so.10'; dlerror: libcurand.so.10: cannot open shared object file: No such file or directory\n",
            "2022-10-04 10:49:49.554981: W tensorflow/stream_executor/platform/default/dso_loader.cc:64] Could not load dynamic library 'libcusolver.so.11'; dlerror: libcusolver.so.11: cannot open shared object file: No such file or directory\n",
            "2022-10-04 10:49:49.555034: W tensorflow/stream_executor/platform/default/dso_loader.cc:64] Could not load dynamic library 'libcusparse.so.11'; dlerror: libcusparse.so.11: cannot open shared object file: No such file or directory\n",
            "2022-10-04 10:49:49.555086: W tensorflow/stream_executor/platform/default/dso_loader.cc:64] Could not load dynamic library 'libcudnn.so.8'; dlerror: libcudnn.so.8: cannot open shared object file: No such file or directory\n",
            "2022-10-04 10:49:49.555095: W tensorflow/core/common_runtime/gpu/gpu_device.cc:1934] Cannot dlopen some GPU libraries. Please make sure the missing libraries mentioned above are installed properly if you would like to use GPU. Follow the guide at https://www.tensorflow.org/install/gpu for how to download and setup the required libraries for your platform.\n",
            "Skipping registering GPU devices...\n",
            "2022-10-04 10:49:49.597981: I tensorflow/core/platform/cpu_feature_guard.cc:193] This TensorFlow binary is optimized with oneAPI Deep Neural Network Library (oneDNN) to use the following CPU instructions in performance-critical operations:  AVX2 FMA\n",
            "To enable them in other operations, rebuild TensorFlow with the appropriate compiler flags.\n"
          ]
        }
      ],
      "source": [
        "model = keras.Sequential()\n",
        "\n",
        "\n",
        "model.add(Conv2D(12, kernel_size=3, strides=2,input_shape=(160,120,3), kernel_constraint=tf.keras.constraints.MaxNorm(1),activation='relu', padding='same'))\n",
        "\n",
        "model.add(MaxPooling2D(pool_size=2, strides=2, padding='same'))\n",
        "\n",
        "model.add(Conv2D(36, kernel_size=3, strides=2,activation='relu', padding='same'))\n",
        "\n",
        "model.add(Dropout(0.2))\n",
        "\n",
        "model.add(Conv2D(72, kernel_size=3, strides=2, activation='relu', padding='same'))\n",
        "\n",
        "model.add(Dropout(0.2))\n",
        "model.add(GlobalMaxPooling2D())\n",
        "model.add(Dense(64, activation='relu'))\n",
        "model.add(Dropout(0.2))\n",
        "model.add(Dense(32, activation='relu'))\n",
        "model.add(Dropout(0.2))\n",
        "model.add(Dense(2, activation='softmax'))\n"
      ]
    },
    {
      "cell_type": "code",
      "execution_count": 3,
      "metadata": {
        "id": "-eSv4FI9ECWB"
      },
      "outputs": [],
      "source": [
        "opt = keras.optimizers.Adam()\n",
        "model.compile(loss='categorical_crossentropy', optimizer=opt, metrics=['accuracy'])\n"
      ]
    },
    {
      "cell_type": "markdown",
      "metadata": {
        "id": "935CxSXjF2uw"
      },
      "source": [
        "# Data Preprocessing\n"
      ]
    },
    {
      "cell_type": "code",
      "execution_count": 4,
      "metadata": {
        "colab": {
          "base_uri": "https://localhost:8080/"
        },
        "id": "lOE8e6BUiWN0",
        "outputId": "6c736d0f-ba2a-4e1f-db2e-7bf3e89f339a"
      },
      "outputs": [
        {
          "name": "stdout",
          "output_type": "stream",
          "text": [
            "Found 8617 images belonging to 2 classes.\n",
            "Found 39375 images belonging to 2 classes.\n"
          ]
        }
      ],
      "source": [
        "#collected dataset of around 1200 photos\n",
        "\n",
        "train_datagen = ImageDataGenerator(\n",
        "        rescale=1./255,\n",
        "        horizontal_flip=True, vertical_flip =True,brightness_range=[0.8,1.2],zoom_range=[0.8,1.2])\n",
        "test_datagen = ImageDataGenerator(rescale=1./255)\n",
        "validation_generator = test_datagen.flow_from_directory(\n",
        "        '/home/gabrielmadruga/Documents/Github/tcc-wildfire/dataset/Test',\n",
        "        target_size=(160, 120),\n",
        "        color_mode='rgb',\n",
        "        batch_size=64,\n",
        "         class_mode='categorical')\n",
        "train_generator = train_datagen.flow_from_directory(\n",
        "        '/home/gabrielmadruga/Documents/Github/tcc-wildfire/dataset/Training',\n",
        "        target_size=(160, 120),\n",
        "        batch_size=64,\n",
        "        color_mode='rgb',\n",
        "        class_mode='categorical')"
      ]
    },
    {
      "cell_type": "markdown",
      "metadata": {
        "id": "_Z5_pAUcF6rR"
      },
      "source": [
        "# Training\n"
      ]
    },
    {
      "cell_type": "code",
      "execution_count": 5,
      "metadata": {
        "colab": {
          "base_uri": "https://localhost:8080/"
        },
        "id": "mpoPG1NXH8I9",
        "outputId": "481dc649-88d3-4390-fb44-f5c55604dffe"
      },
      "outputs": [
        {
          "name": "stderr",
          "output_type": "stream",
          "text": [
            "2022-10-04 10:50:07.674238: W tensorflow/core/framework/cpu_allocator_impl.cc:82] Allocation of 14745600 exceeds 10% of free system memory.\n"
          ]
        },
        {
          "name": "stdout",
          "output_type": "stream",
          "text": [
            "Epoch 1/5\n"
          ]
        },
        {
          "name": "stderr",
          "output_type": "stream",
          "text": [
            "2022-10-04 10:50:11.272554: W tensorflow/core/framework/cpu_allocator_impl.cc:82] Allocation of 14745600 exceeds 10% of free system memory.\n",
            "2022-10-04 10:50:12.423217: W tensorflow/core/framework/cpu_allocator_impl.cc:82] Allocation of 14826240 exceeds 10% of free system memory.\n",
            "2022-10-04 10:50:12.470197: W tensorflow/core/framework/cpu_allocator_impl.cc:82] Allocation of 21772800 exceeds 10% of free system memory.\n",
            "2022-10-04 10:50:12.472791: W tensorflow/core/framework/cpu_allocator_impl.cc:82] Allocation of 21772800 exceeds 10% of free system memory.\n"
          ]
        },
        {
          "name": "stdout",
          "output_type": "stream",
          "text": [
            "616/616 [==============================] - 1745s 3s/step - loss: 0.1873 - accuracy: 0.9350 - val_loss: 1.1238 - val_accuracy: 0.5805\n",
            "Epoch 2/5\n",
            "616/616 [==============================] - 1365s 2s/step - loss: 0.1295 - accuracy: 0.9595 - val_loss: 1.1253 - val_accuracy: 0.5808\n",
            "Epoch 3/5\n",
            "616/616 [==============================] - 1312s 2s/step - loss: 0.1116 - accuracy: 0.9632 - val_loss: 0.8720 - val_accuracy: 0.6120\n",
            "Epoch 4/5\n",
            "616/616 [==============================] - 1525s 2s/step - loss: 0.0946 - accuracy: 0.9683 - val_loss: 1.2881 - val_accuracy: 0.5923\n",
            "Epoch 5/5\n",
            "616/616 [==============================] - 540s 878ms/step - loss: 0.0805 - accuracy: 0.9729 - val_loss: 1.3260 - val_accuracy: 0.6168\n"
          ]
        }
      ],
      "source": [
        "history = model.fit(\n",
        "        train_generator,\n",
        "        epochs=5,\n",
        "        validation_data=validation_generator,\n",
        "      verbose=1)"
      ]
    },
    {
      "cell_type": "code",
      "execution_count": 6,
      "metadata": {
        "colab": {
          "base_uri": "https://localhost:8080/"
        },
        "id": "5bPS_-sVfCEW",
        "outputId": "a8cdebf9-052f-424c-8460-b574169f3237"
      },
      "outputs": [
        {
          "name": "stderr",
          "output_type": "stream",
          "text": [
            "WARNING:absl:Found untraced functions such as _jit_compiled_convolution_op, _jit_compiled_convolution_op, _jit_compiled_convolution_op while saving (showing 3 of 3). These functions will not be directly callable after loading.\n"
          ]
        },
        {
          "name": "stdout",
          "output_type": "stream",
          "text": [
            "INFO:tensorflow:Assets written to: /home/gabrielmadruga/Documents/Github/tcc-wildfire/models/assets\n"
          ]
        },
        {
          "name": "stderr",
          "output_type": "stream",
          "text": [
            "INFO:tensorflow:Assets written to: /home/gabrielmadruga/Documents/Github/tcc-wildfire/models/assets\n"
          ]
        }
      ],
      "source": [
        "#save the model to use later\n",
        "model.save(\"/home/gabrielmadruga/Documents/Github/tcc-wildfire/models\") \n"
      ]
    },
    {
      "cell_type": "markdown",
      "metadata": {
        "id": "Q0MsG_h9GFsv"
      },
      "source": [
        "# Quantizing The Model\n"
      ]
    },
    {
      "cell_type": "code",
      "execution_count": 4,
      "metadata": {
        "id": "ovi_Wtjahm86"
      },
      "outputs": [],
      "source": [
        "import glob\n",
        "import os\n",
        "import pandas as pd\n",
        "import numpy as np"
      ]
    },
    {
      "cell_type": "code",
      "execution_count": 5,
      "metadata": {},
      "outputs": [
        {
          "name": "stderr",
          "output_type": "stream",
          "text": [
            "2022-10-05 01:18:23.255568: W tensorflow/compiler/mlir/lite/python/tf_tfl_flatbuffer_helpers.cc:362] Ignored output_format.\n",
            "2022-10-05 01:18:23.255600: W tensorflow/compiler/mlir/lite/python/tf_tfl_flatbuffer_helpers.cc:365] Ignored drop_control_dependency.\n",
            "2022-10-05 01:18:23.255745: I tensorflow/cc/saved_model/reader.cc:45] Reading SavedModel from: /home/gabrielmadruga/Documents/Github/tcc-wildfire/models\n",
            "2022-10-05 01:18:23.258183: I tensorflow/cc/saved_model/reader.cc:89] Reading meta graph with tags { serve }\n",
            "2022-10-05 01:18:23.258200: I tensorflow/cc/saved_model/reader.cc:130] Reading SavedModel debug info (if present) from: /home/gabrielmadruga/Documents/Github/tcc-wildfire/models\n",
            "2022-10-05 01:18:23.265876: I tensorflow/cc/saved_model/loader.cc:229] Restoring SavedModel bundle.\n",
            "2022-10-05 01:18:23.317414: I tensorflow/cc/saved_model/loader.cc:213] Running initialization op on SavedModel bundle at path: /home/gabrielmadruga/Documents/Github/tcc-wildfire/models\n",
            "2022-10-05 01:18:23.328832: I tensorflow/cc/saved_model/loader.cc:305] SavedModel load for tags { serve }; Status: success: OK. Took 73086 microseconds.\n"
          ]
        }
      ],
      "source": [
        "converter = tf.lite.TFLiteConverter.from_saved_model(\"/home/gabrielmadruga/Documents/Github/tcc-wildfire/models\")\n",
        "model_no_quant_tflite = converter.convert()\n"
      ]
    },
    {
      "cell_type": "code",
      "execution_count": 6,
      "metadata": {
        "colab": {
          "base_uri": "https://localhost:8080/"
        },
        "id": "vIUqLkFO-0p5",
        "outputId": "1871d8ea-8e38-4bb9-e33c-61ee04fd0984"
      },
      "outputs": [
        {
          "name": "stderr",
          "output_type": "stream",
          "text": [
            "2022-10-05 01:18:23.489774: W tensorflow/compiler/mlir/lite/python/tf_tfl_flatbuffer_helpers.cc:362] Ignored output_format.\n",
            "2022-10-05 01:18:23.489804: W tensorflow/compiler/mlir/lite/python/tf_tfl_flatbuffer_helpers.cc:365] Ignored drop_control_dependency.\n",
            "2022-10-05 01:18:23.489944: I tensorflow/cc/saved_model/reader.cc:45] Reading SavedModel from: /home/gabrielmadruga/Documents/Github/tcc-wildfire/models\n",
            "2022-10-05 01:18:23.491924: I tensorflow/cc/saved_model/reader.cc:89] Reading meta graph with tags { serve }\n",
            "2022-10-05 01:18:23.491948: I tensorflow/cc/saved_model/reader.cc:130] Reading SavedModel debug info (if present) from: /home/gabrielmadruga/Documents/Github/tcc-wildfire/models\n",
            "2022-10-05 01:18:23.499698: I tensorflow/cc/saved_model/loader.cc:229] Restoring SavedModel bundle.\n",
            "2022-10-05 01:18:23.555424: I tensorflow/cc/saved_model/loader.cc:213] Running initialization op on SavedModel bundle at path: /home/gabrielmadruga/Documents/Github/tcc-wildfire/models\n",
            "2022-10-05 01:18:23.567531: I tensorflow/cc/saved_model/loader.cc:305] SavedModel load for tags { serve }; Status: success: OK. Took 77587 microseconds.\n",
            "fully_quantize: 0, inference_type: 6, input_inference_type: INT8, output_inference_type: INT8\n"
          ]
        },
        {
          "data": {
            "text/plain": [
              "42824"
            ]
          },
          "execution_count": 6,
          "metadata": {},
          "output_type": "execute_result"
        }
      ],
      "source": [
        "# converter = tf.lite.TFLiteConverter.from_saved_model(\"/home/gabrielmadruga/Documents/Github/tcc-wildfire/models\")\n",
        "# model_no_quant_tflite = converter.convert()\n",
        "\n",
        "# Save the model to disk\n",
        "open(\"float.tflite\", \"wb\").write(model_no_quant_tflite)\n",
        "def representative_dataset():\n",
        "  for filename in glob.glob(\"/home/gabrielmadruga/Documents/Github/tcc-wildfire/dataset/Test\" + \"/*/*.jpg\"):\n",
        "    img = keras.preprocessing.image.load_img(filename, target_size=(160, 120))\n",
        "    img_array = keras.preprocessing.image.img_to_array(img)\n",
        "    img_array = tf.expand_dims(img_array, 0)  # Create batch axis for images, labels in train_ds.take(1):\n",
        "    yield([img_array])\n",
        "# Set the optimization flag.\n",
        "converter.optimizations = [tf.lite.Optimize.DEFAULT]\n",
        "# Enforce integer only quantization\n",
        "converter.target_spec.supported_ops = [tf.lite.OpsSet.TFLITE_BUILTINS_INT8]\n",
        "converter.inference_input_type = tf.int8\n",
        "converter.inference_output_type = tf.int8\n",
        "# Provide a representative dataset to ensure we quantize correctly.\n",
        "converter.representative_dataset = representative_dataset\n",
        "model_tflite = converter.convert()\n",
        "\n",
        "# Save the model to disk\n",
        "open(\"quantized.tflite\", \"wb\").write(model_tflite)"
      ]
    },
    {
      "cell_type": "markdown",
      "metadata": {
        "id": "d0V_IjQ1G_Ah"
      },
      "source": [
        "##Comparing Sizes Between Models\n"
      ]
    },
    {
      "cell_type": "code",
      "execution_count": 7,
      "metadata": {
        "id": "hlaKGeqjioMf"
      },
      "outputs": [
        {
          "data": {
            "text/html": [
              "<div>\n",
              "<style scoped>\n",
              "    .dataframe tbody tr th:only-of-type {\n",
              "        vertical-align: middle;\n",
              "    }\n",
              "\n",
              "    .dataframe tbody tr th {\n",
              "        vertical-align: top;\n",
              "    }\n",
              "\n",
              "    .dataframe thead th {\n",
              "        text-align: right;\n",
              "    }\n",
              "</style>\n",
              "<table border=\"1\" class=\"dataframe\">\n",
              "  <thead>\n",
              "    <tr style=\"text-align: right;\">\n",
              "      <th></th>\n",
              "      <th>Size</th>\n",
              "      <th></th>\n",
              "    </tr>\n",
              "    <tr>\n",
              "      <th>Model</th>\n",
              "      <th></th>\n",
              "      <th></th>\n",
              "    </tr>\n",
              "  </thead>\n",
              "  <tbody>\n",
              "    <tr>\n",
              "      <th>TensorFlow</th>\n",
              "      <td>668385 bytes</td>\n",
              "      <td></td>\n",
              "    </tr>\n",
              "    <tr>\n",
              "      <th>TensorFlow Lite</th>\n",
              "      <td>142044 bytes</td>\n",
              "      <td>(reduced by 526341 bytes)</td>\n",
              "    </tr>\n",
              "    <tr>\n",
              "      <th>TensorFlow Lite Quantized</th>\n",
              "      <td>42824 bytes</td>\n",
              "      <td>(reduced by 99220 bytes)</td>\n",
              "    </tr>\n",
              "  </tbody>\n",
              "</table>\n",
              "</div>"
            ],
            "text/plain": [
              "                                    Size                           \n",
              "Model                                                              \n",
              "TensorFlow                  668385 bytes                           \n",
              "TensorFlow Lite            142044 bytes   (reduced by 526341 bytes)\n",
              "TensorFlow Lite Quantized    42824 bytes   (reduced by 99220 bytes)"
            ]
          },
          "execution_count": 7,
          "metadata": {},
          "output_type": "execute_result"
        }
      ],
      "source": [
        "def get_dir_size(dir):\n",
        "  size = 0\n",
        "  for f in os.scandir(dir):\n",
        "    if f.is_file():\n",
        "      size += f.stat().st_size\n",
        "    elif f.is_dir():\n",
        "      size += get_dir_size(f.path)\n",
        "  return size\n",
        "\n",
        "# Calculate size\n",
        "size_tf = get_dir_size(\"/home/gabrielmadruga/Documents/Github/tcc-wildfire/models\")\n",
        "size_no_quant_tflite = os.path.getsize(\"float.tflite\")\n",
        "size_tflite = os.path.getsize(\"quantized.tflite\")\n",
        "\n",
        "# Compare size\n",
        "pd.DataFrame.from_records(\n",
        "    [[\"TensorFlow\", f\"{size_tf} bytes\", \"\"],\n",
        "     [\"TensorFlow Lite\", f\"{size_no_quant_tflite} bytes \", f\"(reduced by {size_tf - size_no_quant_tflite} bytes)\"],\n",
        "     [\"TensorFlow Lite Quantized\", f\"{size_tflite} bytes\", f\"(reduced by {size_no_quant_tflite - size_tflite} bytes)\"]],\n",
        "     columns = [\"Model\", \"Size\", \"\"], index=\"Model\")"
      ]
    },
    {
      "cell_type": "markdown",
      "metadata": {
        "id": "7X1y1ePMHZnE"
      },
      "source": [
        "##Testing It Out"
      ]
    },
    {
      "cell_type": "code",
      "execution_count": 8,
      "metadata": {
        "id": "4ct2O3L7lgn9"
      },
      "outputs": [],
      "source": [
        "def predict_tflite(tflite_model, filename):\n",
        "  img = keras.preprocessing.image.load_img(filename, target_size=(160, 120))\n",
        "  img_array = keras.preprocessing.image.img_to_array(img)\n",
        "  img_array = tf.expand_dims(img_array, 0)\n",
        "\n",
        "  # Initialize the TFLite interpreter\n",
        "  interpreter = tf.lite.Interpreter(model_content=tflite_model)\n",
        "  interpreter.allocate_tensors()\n",
        "\n",
        "  input_details = interpreter.get_input_details()[0]\n",
        "  output_details = interpreter.get_output_details()[0]\n",
        "\n",
        "  # If required, quantize the input layer (from float to integer)\n",
        "  input_scale, input_zero_point = input_details[\"quantization\"]\n",
        "  if (input_scale, input_zero_point) != (0.0, 0):\n",
        "    img_array = np.multiply(img_array, 1.0 / input_scale) + input_zero_point\n",
        "    img_array = img_array.astype(input_details[\"dtype\"])\n",
        "  \n",
        "  # Invoke the interpreter\n",
        "  interpreter.set_tensor(input_details[\"index\"], img_array)\n",
        "  interpreter.invoke()\n",
        "  pred = interpreter.get_tensor(output_details[\"index\"])[0]\n",
        "  \n",
        "  # If required, dequantized the output layer (from integer to float)\n",
        "  output_scale, output_zero_point = output_details[\"quantization\"]\n",
        "  if (output_scale, output_zero_point) != (0.0, 0):\n",
        "    pred = pred.astype(np.float32)\n",
        "    pred = np.multiply((pred - output_zero_point), output_scale)\n",
        "  \n",
        "  predicted_label_index = np.argmax(pred)\n",
        "  predicted_score = pred[predicted_label_index]\n",
        "  return (predicted_label_index, predicted_score)"
      ]
    },
    {
      "cell_type": "code",
      "execution_count": 18,
      "metadata": {
        "id": "iXayCCF_lqQG"
      },
      "outputs": [
        {
          "name": "stdout",
          "output_type": "stream",
          "text": [
            "(1, 0.99609375)\n"
          ]
        }
      ],
      "source": [
        "print(predict_tflite(model_tflite,\"/home/gabrielmadruga/Documents/Github/tcc-wildfire/dataset/Images/image_145.jpg\")) #fires are (0,1) and non fires are a (1,1)"
      ]
    },
    {
      "cell_type": "markdown",
      "metadata": {
        "id": "YfWlGO8EHfyT"
      },
      "source": [
        "##Exporting the Quantized Model"
      ]
    },
    {
      "cell_type": "code",
      "execution_count": null,
      "metadata": {
        "id": "WFae-mxq5l7U"
      },
      "outputs": [],
      "source": [
        "!apt-get update && apt-get -qq install xxd"
      ]
    },
    {
      "cell_type": "code",
      "execution_count": null,
      "metadata": {
        "id": "_oGYI-g05icv"
      },
      "outputs": [],
      "source": [
        "!xxd -i quantized.tflite > model_data.cc"
      ]
    }
  ],
  "metadata": {
    "accelerator": "GPU",
    "colab": {
      "collapsed_sections": [],
      "name": "Fire Detect Training",
      "provenance": []
    },
    "kernelspec": {
      "display_name": "Python 3.10.6 64-bit",
      "language": "python",
      "name": "python3"
    },
    "language_info": {
      "codemirror_mode": {
        "name": "ipython",
        "version": 3
      },
      "file_extension": ".py",
      "mimetype": "text/x-python",
      "name": "python",
      "nbconvert_exporter": "python",
      "pygments_lexer": "ipython3",
      "version": "3.10.6"
    },
    "vscode": {
      "interpreter": {
        "hash": "916dbcbb3f70747c44a77c7bcd40155683ae19c65e1c03b4aa3499c5328201f1"
      }
    }
  },
  "nbformat": 4,
  "nbformat_minor": 0
}
