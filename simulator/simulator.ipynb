{
 "cells": [
  {
   "cell_type": "code",
   "execution_count": 1,
   "metadata": {},
   "outputs": [
    {
     "name": "stdout",
     "output_type": "stream",
     "text": [
      "Requirement already satisfied: agentpy in /home/gabrielmadruga/Documents/Github/tcc-wildfire/.env/lib/python3.10/site-packages (0.1.5)\n",
      "Requirement already satisfied: matplotlib>=3.3.3 in /home/gabrielmadruga/Documents/Github/tcc-wildfire/.env/lib/python3.10/site-packages (from agentpy) (3.7.2)\n",
      "Requirement already satisfied: numpy>=1.19 in /home/gabrielmadruga/Documents/Github/tcc-wildfire/.env/lib/python3.10/site-packages (from agentpy) (1.23.1)\n",
      "Requirement already satisfied: joblib>=1.1.0 in /home/gabrielmadruga/Documents/Github/tcc-wildfire/.env/lib/python3.10/site-packages (from agentpy) (1.3.2)\n",
      "Requirement already satisfied: scipy>=1.5.2 in /home/gabrielmadruga/Documents/Github/tcc-wildfire/.env/lib/python3.10/site-packages (from agentpy) (1.9.1)\n",
      "Requirement already satisfied: pandas>=1.1.3 in /home/gabrielmadruga/Documents/Github/tcc-wildfire/.env/lib/python3.10/site-packages (from agentpy) (1.4.3)\n",
      "Requirement already satisfied: networkx>=2.5 in /home/gabrielmadruga/Documents/Github/tcc-wildfire/.env/lib/python3.10/site-packages (from agentpy) (3.1)\n",
      "Requirement already satisfied: SALib>=1.3.7 in /home/gabrielmadruga/Documents/Github/tcc-wildfire/.env/lib/python3.10/site-packages (from agentpy) (1.4.7)\n",
      "Requirement already satisfied: contourpy>=1.0.1 in /home/gabrielmadruga/Documents/Github/tcc-wildfire/.env/lib/python3.10/site-packages (from matplotlib>=3.3.3->agentpy) (1.1.0)\n",
      "Requirement already satisfied: cycler>=0.10 in /home/gabrielmadruga/Documents/Github/tcc-wildfire/.env/lib/python3.10/site-packages (from matplotlib>=3.3.3->agentpy) (0.11.0)\n",
      "Requirement already satisfied: python-dateutil>=2.7 in /home/gabrielmadruga/Documents/Github/tcc-wildfire/.env/lib/python3.10/site-packages (from matplotlib>=3.3.3->agentpy) (2.8.2)\n",
      "Requirement already satisfied: fonttools>=4.22.0 in /home/gabrielmadruga/Documents/Github/tcc-wildfire/.env/lib/python3.10/site-packages (from matplotlib>=3.3.3->agentpy) (4.42.0)\n",
      "Requirement already satisfied: pillow>=6.2.0 in /home/gabrielmadruga/Documents/Github/tcc-wildfire/.env/lib/python3.10/site-packages (from matplotlib>=3.3.3->agentpy) (9.2.0)\n",
      "Requirement already satisfied: kiwisolver>=1.0.1 in /home/gabrielmadruga/Documents/Github/tcc-wildfire/.env/lib/python3.10/site-packages (from matplotlib>=3.3.3->agentpy) (1.4.4)\n",
      "Requirement already satisfied: pyparsing<3.1,>=2.3.1 in /home/gabrielmadruga/Documents/Github/tcc-wildfire/.env/lib/python3.10/site-packages (from matplotlib>=3.3.3->agentpy) (3.0.9)\n",
      "Requirement already satisfied: packaging>=20.0 in /home/gabrielmadruga/Documents/Github/tcc-wildfire/.env/lib/python3.10/site-packages (from matplotlib>=3.3.3->agentpy) (23.0)\n",
      "Requirement already satisfied: pytz>=2020.1 in /home/gabrielmadruga/Documents/Github/tcc-wildfire/.env/lib/python3.10/site-packages (from pandas>=1.1.3->agentpy) (2022.1)\n",
      "Requirement already satisfied: multiprocess in /home/gabrielmadruga/Documents/Github/tcc-wildfire/.env/lib/python3.10/site-packages (from SALib>=1.3.7->agentpy) (0.70.15)\n",
      "Requirement already satisfied: six>=1.5 in /home/gabrielmadruga/Documents/Github/tcc-wildfire/.env/lib/python3.10/site-packages (from python-dateutil>=2.7->matplotlib>=3.3.3->agentpy) (1.16.0)\n",
      "Requirement already satisfied: dill>=0.3.7 in /home/gabrielmadruga/Documents/Github/tcc-wildfire/.env/lib/python3.10/site-packages (from multiprocess->SALib>=1.3.7->agentpy) (0.3.7)\n",
      "\n",
      "\u001b[1m[\u001b[0m\u001b[34;49mnotice\u001b[0m\u001b[1;39;49m]\u001b[0m\u001b[39;49m A new release of pip available: \u001b[0m\u001b[31;49m22.2.2\u001b[0m\u001b[39;49m -> \u001b[0m\u001b[32;49m23.2.1\u001b[0m\n",
      "\u001b[1m[\u001b[0m\u001b[34;49mnotice\u001b[0m\u001b[1;39;49m]\u001b[0m\u001b[39;49m To update, run: \u001b[0m\u001b[32;49mpip install --upgrade pip\u001b[0m\n",
      "Requirement already satisfied: seaborn in /home/gabrielmadruga/Documents/Github/tcc-wildfire/.env/lib/python3.10/site-packages (0.12.2)\n",
      "Requirement already satisfied: numpy!=1.24.0,>=1.17 in /home/gabrielmadruga/Documents/Github/tcc-wildfire/.env/lib/python3.10/site-packages (from seaborn) (1.23.1)\n",
      "Requirement already satisfied: pandas>=0.25 in /home/gabrielmadruga/Documents/Github/tcc-wildfire/.env/lib/python3.10/site-packages (from seaborn) (1.4.3)\n",
      "Requirement already satisfied: matplotlib!=3.6.1,>=3.1 in /home/gabrielmadruga/Documents/Github/tcc-wildfire/.env/lib/python3.10/site-packages (from seaborn) (3.7.2)\n",
      "Requirement already satisfied: pyparsing<3.1,>=2.3.1 in /home/gabrielmadruga/Documents/Github/tcc-wildfire/.env/lib/python3.10/site-packages (from matplotlib!=3.6.1,>=3.1->seaborn) (3.0.9)\n",
      "Requirement already satisfied: contourpy>=1.0.1 in /home/gabrielmadruga/Documents/Github/tcc-wildfire/.env/lib/python3.10/site-packages (from matplotlib!=3.6.1,>=3.1->seaborn) (1.1.0)\n",
      "Requirement already satisfied: fonttools>=4.22.0 in /home/gabrielmadruga/Documents/Github/tcc-wildfire/.env/lib/python3.10/site-packages (from matplotlib!=3.6.1,>=3.1->seaborn) (4.42.0)\n",
      "Requirement already satisfied: python-dateutil>=2.7 in /home/gabrielmadruga/Documents/Github/tcc-wildfire/.env/lib/python3.10/site-packages (from matplotlib!=3.6.1,>=3.1->seaborn) (2.8.2)\n",
      "Requirement already satisfied: kiwisolver>=1.0.1 in /home/gabrielmadruga/Documents/Github/tcc-wildfire/.env/lib/python3.10/site-packages (from matplotlib!=3.6.1,>=3.1->seaborn) (1.4.4)\n",
      "Requirement already satisfied: cycler>=0.10 in /home/gabrielmadruga/Documents/Github/tcc-wildfire/.env/lib/python3.10/site-packages (from matplotlib!=3.6.1,>=3.1->seaborn) (0.11.0)\n",
      "Requirement already satisfied: packaging>=20.0 in /home/gabrielmadruga/Documents/Github/tcc-wildfire/.env/lib/python3.10/site-packages (from matplotlib!=3.6.1,>=3.1->seaborn) (23.0)\n",
      "Requirement already satisfied: pillow>=6.2.0 in /home/gabrielmadruga/Documents/Github/tcc-wildfire/.env/lib/python3.10/site-packages (from matplotlib!=3.6.1,>=3.1->seaborn) (9.2.0)\n",
      "Requirement already satisfied: pytz>=2020.1 in /home/gabrielmadruga/Documents/Github/tcc-wildfire/.env/lib/python3.10/site-packages (from pandas>=0.25->seaborn) (2022.1)\n",
      "Requirement already satisfied: six>=1.5 in /home/gabrielmadruga/Documents/Github/tcc-wildfire/.env/lib/python3.10/site-packages (from python-dateutil>=2.7->matplotlib!=3.6.1,>=3.1->seaborn) (1.16.0)\n",
      "\n",
      "\u001b[1m[\u001b[0m\u001b[34;49mnotice\u001b[0m\u001b[1;39;49m]\u001b[0m\u001b[39;49m A new release of pip available: \u001b[0m\u001b[31;49m22.2.2\u001b[0m\u001b[39;49m -> \u001b[0m\u001b[32;49m23.2.1\u001b[0m\n",
      "\u001b[1m[\u001b[0m\u001b[34;49mnotice\u001b[0m\u001b[1;39;49m]\u001b[0m\u001b[39;49m To update, run: \u001b[0m\u001b[32;49mpip install --upgrade pip\u001b[0m\n"
     ]
    }
   ],
   "source": [
    "!pip install agentpy\n",
    "!pip install seaborn"
   ]
  },
  {
   "cell_type": "code",
   "execution_count": 1,
   "metadata": {},
   "outputs": [],
   "source": [
    "# Model design\n",
    "import agentpy as ap\n",
    "\n",
    "# Visualization\n",
    "import os\n",
    "import random\n",
    "import matplotlib.pyplot as plt\n",
    "import seaborn as sns\n",
    "import IPython\n",
    "import pandas as pd\n",
    "import math\n",
    "import json\n",
    "import numpy as np\n",
    "from matplotlib import pyplot as plt\n",
    "\n"
   ]
  },
  {
   "cell_type": "code",
   "execution_count": 3,
   "metadata": {},
   "outputs": [],
   "source": [
    "class ForestModel(ap.Model):\n",
    "\n",
    "    def setup(self):\n",
    "        self.time = 0\n",
    "        # Create agents (trees)\n",
    "        n_trees = int(self.p['Tree density'] * (self.p.size**2))\n",
    "        trees = self.agents = ap.AgentList(self, n_trees)\n",
    "\n",
    "        # Create grid (forest)\n",
    "        self.forest = ap.Grid(self, [self.p.size]*2, track_empty=True)\n",
    "        self.forest.add_agents(trees, random=True, empty=True)\n",
    "\n",
    "        # Initiate a dynamic variable for all trees\n",
    "        # Condition 0: Alive, 1: Burning, 2: Burned\n",
    "        self.agents.condition = 0\n",
    "\n",
    "        # Start a fire from the left side of the grid\n",
    "\n",
    "        # Start a fire from random place on the grid\n",
    "        x_axis = random.randint(0,self.p.size-2)\n",
    "        y_axis = random.randint(0,self.p.size-2)\n",
    "\n",
    "        unfortunate_trees = self.forest.agents[x_axis:x_axis+2, y_axis:y_axis+2]\n",
    "        unfortunate_trees.condition = 1\n",
    "        self.df = pd.DataFrame({\"position\":[],\n",
    "                \"condition\":[],\n",
    "                \"step\":[]})\n",
    "\n",
    "\n",
    "    def step(self):\n",
    "        self.time = self.time + 1\n",
    "        # Select burning trees\n",
    "        burning_trees = self.agents.select(self.agents.condition == 1)\n",
    "        # Spread fire\n",
    "        for tree in burning_trees:\n",
    "            for neighbor in self.forest.neighbors(tree):\n",
    "                if neighbor.condition == 0:\n",
    "                  # Fire Parameter\n",
    "                    if random.random() > self.p.fuel_parameter:\n",
    "                      neighbor.condition = 1 # Neighbor starts burning\n",
    "                    else:\n",
    "                      neighbor.condition = 0\n",
    "            tree.condition = 2 # Tree burns out\n",
    "\n",
    "\n",
    "        for pos in self.forest.all:\n",
    "          if str(self.forest.agents[pos].condition) == '[1]':\n",
    "            row = pd.DataFrame({\n",
    "                \"position\": [pos],\n",
    "                \"condition\": 1,\n",
    "                \"step\": self.time,\n",
    "            })\n",
    "            self.df = pd.concat([self.df, row], ignore_index=True)\n",
    "\n",
    "        # Stop simulation if no fire is left\n",
    "        if len(burning_trees) == 0:\n",
    "            self.stop()\n",
    "\n",
    "    def end(self):\n",
    "        # Document a measure at the end of the simulation\n",
    "        burned_trees = len(self.agents.select(self.agents.condition == 2))\n",
    "        self.report('Percentage of burned trees',\n",
    "                    burned_trees / len(self.agents))\n",
    "\n",
    "        # Optionally, you can return the DataFrame\n",
    "        return self.df"
   ]
  },
  {
   "cell_type": "code",
   "execution_count": 4,
   "metadata": {},
   "outputs": [],
   "source": [
    "# Define parameters\n",
    "\n",
    "parameters = {\n",
    "    'Tree density': 0.6, # Percentage of grid covered by trees\n",
    "    'size': 100, # Height and length of the grid\n",
    "    'steps': 100,\n",
    "    'fuel_parameter': 0.4\n",
    "}"
   ]
  },
  {
   "cell_type": "code",
   "execution_count": 7,
   "metadata": {},
   "outputs": [],
   "source": [
    "# Create single-run animation with custom colors\n",
    "\n",
    "def animation_plot(model, ax):\n",
    "    attr_grid = model.forest.attr_grid('condition')\n",
    "    color_dict = {0:'#7FC97F', 1:'#d62c2c', 2:'#e5e5e5', None:'#d5e5d5'}\n",
    "    ap.gridplot(attr_grid, ax=ax, color_dict=color_dict, convert=True)\n",
    "    ax.set_title(f\"Simulation of a forest fire\\n\"\n",
    "                 f\"Time-step: {model.t}, Trees left: \"\n",
    "                 f\"{len(model.agents.select(model.agents.condition == 0))}\")\n",
    "\n",
    "for element in range(1,20):\n",
    "    fig, ax = plt.subplots()\n",
    "    model = ForestModel(parameters)\n",
    "    animation = ap.animate(model, fig, ax, animation_plot)\n",
    "    IPython.display.HTML(animation.to_jshtml(fps=15))\n",
    "\n",
    "    df = model.df\n",
    "    df.to_csv(f\"config/fire_data/fire_data_{element}.csv\")\n"
   ]
  },
  {
   "cell_type": "code",
   "execution_count": 13,
   "metadata": {},
   "outputs": [],
   "source": [
    "def calcular_distancia(x1, y1, x2, y2):\n",
    "    distancia = math.sqrt((x2 - x1)**2 + (y2 - y1)**2)\n",
    "    return distancia\n",
    "\n",
    "def calcular_temperatura(distancia, temperatura_inicial,constante=500):\n",
    "        if distancia <= 0:\n",
    "            temperature = temperatura_inicial + (np.random.normal(0,1,1))\n",
    "        else:\n",
    "            temperature = temperatura_inicial + constante/(distancia*distancia) + (np.random.normal(0,1,1))\n",
    "        return temperature[0]\n",
    "\n",
    "\n",
    "def calcular_humidity(distancia, umidade_inicial, constante=5):\n",
    "        if distancia <= 0:\n",
    "            umidade =  umidade_inicial + (np.random.normal(0,1,1)/100)\n",
    "        else:\n",
    "            umidade =  umidade_inicial/np.exp(1/(constante*distancia)) + (np.random.normal(0,1,1)/100)\n",
    "        return umidade[0]"
   ]
  },
  {
   "cell_type": "code",
   "execution_count": 22,
   "metadata": {},
   "outputs": [
    {
     "name": "stdout",
     "output_type": "stream",
     "text": [
      "[{'id': 1, 'initial_temperature': 25, 'initial_humidity': 70, 'latitude': -22.956, 'longitude': -43.224, 'pixel_position_x': 10, 'pixel_position_y': 10, 'delay_time': 10}, {'id': 2, 'initial_temperature': 25, 'initial_humidity': 70, 'latitude': -22.957, 'longitude': -43.262, 'pixel_position_x': 10, 'pixel_position_y': 30, 'delay_time': 10}, {'id': 3, 'initial_temperature': 25, 'initial_humidity': 70, 'latitude': -22.939777, 'longitude': -43.29419823, 'pixel_position_x': 10, 'pixel_position_y': 50, 'delay_time': 10}, {'id': 4, 'initial_temperature': 25, 'initial_humidity': 70, 'latitude': -22.857, 'longitude': -43.292, 'pixel_position_x': 10, 'pixel_position_y': 70, 'delay_time': 10}, {'id': 5, 'initial_temperature': 25, 'initial_humidity': 70, 'latitude': -22.956, 'longitude': -43.224, 'pixel_position_x': 10, 'pixel_position_y': 90, 'delay_time': 10}, {'id': 6, 'initial_temperature': 25, 'initial_humidity': 70, 'latitude': -22.957, 'longitude': -43.262, 'pixel_position_x': 30, 'pixel_position_y': 10, 'delay_time': 10}, {'id': 7, 'initial_temperature': 25, 'initial_humidity': 70, 'latitude': -22.939777, 'longitude': -43.29419823, 'pixel_position_x': 30, 'pixel_position_y': 30, 'delay_time': 10}, {'id': 8, 'initial_temperature': 25, 'initial_humidity': 70, 'latitude': -22.857, 'longitude': -43.292, 'pixel_position_x': 30, 'pixel_position_y': 50, 'delay_time': 10}, {'id': 9, 'initial_temperature': 25, 'initial_humidity': 70, 'latitude': -22.956, 'longitude': -43.224, 'pixel_position_x': 30, 'pixel_position_y': 70, 'delay_time': 10}, {'id': 10, 'initial_temperature': 25, 'initial_humidity': 70, 'latitude': -22.957, 'longitude': -43.262, 'pixel_position_x': 30, 'pixel_position_y': 90, 'delay_time': 10}, {'id': 11, 'initial_temperature': 25, 'initial_humidity': 70, 'latitude': -22.939777, 'longitude': -43.29419823, 'pixel_position_x': 50, 'pixel_position_y': 10, 'delay_time': 10}, {'id': 12, 'initial_temperature': 25, 'initial_humidity': 70, 'latitude': -22.857, 'longitude': -43.292, 'pixel_position_x': 50, 'pixel_position_y': 30, 'delay_time': 10}, {'id': 13, 'initial_temperature': 25, 'initial_humidity': 70, 'latitude': -22.956, 'longitude': -43.224, 'pixel_position_x': 50, 'pixel_position_y': 50, 'delay_time': 10}, {'id': 14, 'initial_temperature': 25, 'initial_humidity': 70, 'latitude': -22.957, 'longitude': -43.262, 'pixel_position_x': 50, 'pixel_position_y': 70, 'delay_time': 10}, {'id': 15, 'initial_temperature': 25, 'initial_humidity': 70, 'latitude': -22.939777, 'longitude': -43.29419823, 'pixel_position_x': 50, 'pixel_position_y': 90, 'delay_time': 10}, {'id': 16, 'initial_temperature': 25, 'initial_humidity': 70, 'latitude': -22.857, 'longitude': -43.292, 'pixel_position_x': 70, 'pixel_position_y': 10, 'delay_time': 10}, {'id': 25, 'initial_temperature': 25, 'initial_humidity': 70, 'latitude': -22.857, 'longitude': -43.292, 'pixel_position_x': 90, 'pixel_position_y': 90, 'delay_time': 10}, {'id': 17, 'initial_temperature': 25, 'initial_humidity': 70, 'latitude': -22.956, 'longitude': -43.224, 'pixel_position_x': 70, 'pixel_position_y': 30, 'delay_time': 10}, {'id': 18, 'initial_temperature': 25, 'initial_humidity': 70, 'latitude': -22.957, 'longitude': -43.262, 'pixel_position_x': 70, 'pixel_position_y': 50, 'delay_time': 10}, {'id': 19, 'initial_temperature': 25, 'initial_humidity': 70, 'latitude': -22.939777, 'longitude': -43.29419823, 'pixel_position_x': 70, 'pixel_position_y': 70, 'delay_time': 10}, {'id': 20, 'initial_temperature': 25, 'initial_humidity': 70, 'latitude': -22.857, 'longitude': -43.292, 'pixel_position_x': 70, 'pixel_position_y': 90, 'delay_time': 10}, {'id': 21, 'initial_temperature': 25, 'initial_humidity': 70, 'latitude': -22.956, 'longitude': -43.224, 'pixel_position_x': 90, 'pixel_position_y': 10, 'delay_time': 10}, {'id': 22, 'initial_temperature': 25, 'initial_humidity': 70, 'latitude': -22.957, 'longitude': -43.262, 'pixel_position_x': 90, 'pixel_position_y': 30, 'delay_time': 10}, {'id': 23, 'initial_temperature': 25, 'initial_humidity': 70, 'latitude': -22.939777, 'longitude': -43.29419823, 'pixel_position_x': 90, 'pixel_position_y': 50, 'delay_time': 10}, {'id': 24, 'initial_temperature': 25, 'initial_humidity': 70, 'latitude': -22.857, 'longitude': -43.292, 'pixel_position_x': 90, 'pixel_position_y': 70, 'delay_time': 10}]\n"
     ]
    }
   ],
   "source": [
    "NUM_SENSORS = '25'\n",
    "sensors_data = []\n",
    "for filename in os.listdir(f\"config/qty_sensor_{NUM_SENSORS}/\"):\n",
    "    if filename.endswith(\".json\"):\n",
    "      file = open(f\"config/qty_sensor_{NUM_SENSORS}/{filename}\")\n",
    "      json_data = json.load(file)[\"sensors\"]\n",
    "      sensors_data.extend(json_data)\n",
    "      \n",
    "print(sensors_data)"
   ]
  },
  {
   "cell_type": "code",
   "execution_count": 23,
   "metadata": {},
   "outputs": [
    {
     "name": "stdout",
     "output_type": "stream",
     "text": [
      "fire_data_13.csv\n",
      "fire_data_15.csv\n",
      "fire_data_18.csv\n",
      "fire_data_6.csv\n",
      "fire_data_1.csv\n",
      "fire_data_4.csv\n",
      "fire_data_12.csv\n",
      "fire_data_17.csv\n",
      "fire_data_5.csv\n",
      "fire_data_8.csv\n",
      "fire_data_11.csv\n",
      "fire_data_14.csv\n",
      "fire_data_16.csv\n",
      "fire_data_10.csv\n",
      "fire_data_2.csv\n",
      "fire_data_3.csv\n",
      "fire_data_19.csv\n",
      "fire_data_7.csv\n",
      "fire_data_9.csv\n"
     ]
    }
   ],
   "source": [
    "for filename in os.listdir(f\"config/fire_data\"):\n",
    "  sensor_ends_name = filename.split(\"_\")[-1]\n",
    "  print(filename)\n",
    "  df = pd.read_csv(f\"config/fire_data/{filename}\")\n",
    "  results = []\n",
    "  for element in sensors_data:\n",
    "    sensor_id = element[\"id\"]\n",
    "    pos_x = element[\"pixel_position_x\"]\n",
    "    pos_y = element[\"pixel_position_y\"]\n",
    "    temp_inicial = element[\"initial_temperature\"]\n",
    "    umid_inicial = element[\"initial_humidity\"]\n",
    "    for step in range(1,101):\n",
    "      actual_burning_trees = df[df[\"step\"]==step]\n",
    "      for tree in actual_burning_trees.iterrows():\n",
    "        fire_pos_x = eval(tree[1][\"position\"])[0]\n",
    "        fire_pos_y = eval(tree[1][\"position\"])[1]\n",
    "        dist = calcular_distancia(int(fire_pos_x),int(fire_pos_y),pos_x,pos_y)\n",
    "        temp = calcular_temperatura(dist,temp_inicial)\n",
    "        umid = calcular_humidity(dist,umid_inicial)\n",
    "        data = {\n",
    "            \"step\":step,\n",
    "            \"id\":sensor_id,\n",
    "            \"temperature\":temp,\n",
    "            \"humidity\":umid\n",
    "        }\n",
    "        results.append(data)\n",
    "  results_df = pd.DataFrame(results)\n",
    "  results_df = results_df.groupby([\"step\", \"id\"]).agg({'temperature': 'max', 'humidity': 'min'}).reset_index()\n",
    "  results_df.to_csv(f\"config/qty_sensor_{NUM_SENSORS}/data/sensor_data_{sensor_ends_name}\")    "
   ]
  },
  {
   "cell_type": "code",
   "execution_count": 7,
   "metadata": {},
   "outputs": [],
   "source": [
    "df = pd.read_csv(\"config/fire_data/fire_data_1.csv\")\n",
    "for element in df.iterrows():\n",
    "    fire_pos_x = eval(element[1][\"position\"])"
   ]
  },
  {
   "cell_type": "code",
   "execution_count": 9,
   "metadata": {},
   "outputs": [
    {
     "data": {
      "text/plain": [
       "12"
      ]
     },
     "execution_count": 9,
     "metadata": {},
     "output_type": "execute_result"
    }
   ],
   "source": [
    "fire_pos_x[0]"
   ]
  },
  {
   "cell_type": "code",
   "execution_count": null,
   "metadata": {},
   "outputs": [],
   "source": []
  }
 ],
 "metadata": {
  "kernelspec": {
   "display_name": ".env",
   "language": "python",
   "name": "python3"
  },
  "language_info": {
   "codemirror_mode": {
    "name": "ipython",
    "version": 3
   },
   "file_extension": ".py",
   "mimetype": "text/x-python",
   "name": "python",
   "nbconvert_exporter": "python",
   "pygments_lexer": "ipython3",
   "version": "3.10.12"
  },
  "orig_nbformat": 4
 },
 "nbformat": 4,
 "nbformat_minor": 2
}
